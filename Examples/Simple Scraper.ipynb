{
 "cells": [
  {
   "cell_type": "code",
   "execution_count": 2,
   "metadata": {},
   "outputs": [],
   "source": [
    "from selenium import webdriver\n",
    "from selenium.webdriver.common.desired_capabilities import DesiredCapabilities\n",
    "import csv\n",
    "import time\n",
    "\n",
    "\n",
    "site_url = \"https://cybersecurityventures.com/cybersecurity-500-list/#home/?view_1_per_page=500&view_1_page=1\"\n",
    "path_to_chrome = r\"C:\\Users\\erics_qp7a9\\PycharmProjects\\Scraping\\chromedriver.exe\""
   ]
  },
  {
   "cell_type": "code",
   "execution_count": 4,
   "metadata": {},
   "outputs": [],
   "source": [
    "driver = webdriver.Chrome(executable_path=path_to_chrome)\n",
    "driver.get(site_url)"
   ]
  },
  {
   "cell_type": "code",
   "execution_count": 5,
   "metadata": {
    "collapsed": true
   },
   "outputs": [],
   "source": [
    "test_xpath = driver.find_element_by_xpath(\"//tbody/tr[1]/td[2]\")"
   ]
  },
  {
   "cell_type": "code",
   "execution_count": 14,
   "metadata": {},
   "outputs": [
    {
     "data": {
      "text/plain": [
       "500"
      ]
     },
     "execution_count": 14,
     "metadata": {},
     "output_type": "execute_result"
    }
   ],
   "source": [
    "company_names_elements = driver.find_elements_by_xpath(\"//tbody/tr/td[2]//a\")\n",
    "len(data_rows)\n",
    "    "
   ]
  },
  {
   "cell_type": "code",
   "execution_count": 15,
   "metadata": {},
   "outputs": [],
   "source": [
    "company_names = []\n",
    "for i in range(500):\n",
    "    company_name = company_names_elements[i].get_attribute(\"textContent\").strip()\n",
    "    company_names.append(company_name)"
   ]
  },
  {
   "cell_type": "code",
   "execution_count": 17,
   "metadata": {},
   "outputs": [],
   "source": [
    "company_links = []\n",
    "for i in range(500):\n",
    "    company_link = company_names_elements[i].get_attribute(\"href\")\n",
    "    company_links.append(company_link)"
   ]
  },
  {
   "cell_type": "code",
   "execution_count": 23,
   "metadata": {},
   "outputs": [],
   "source": [
    "sector_elements = driver.find_elements_by_xpath(\"//tbody/tr/td[3]/span\")\n",
    "\n",
    "sectors = []\n",
    "for i in range(500):\n",
    "    sector_row = sector_elements[i].get_attribute(\"textContent\").strip()\n",
    "    sectors.append(sector_row)\n"
   ]
  },
  {
   "cell_type": "code",
   "execution_count": 27,
   "metadata": {},
   "outputs": [],
   "source": [
    "hq_elements = driver.find_elements_by_xpath(\"//tbody/tr/td[4]/span\")\n",
    "\n",
    "hq_list = []\n",
    "for i in range(500):\n",
    "    hq_row = hq_elements[i].get_attribute(\"textContent\").strip()\n",
    "    hq_list.append(hq_row)"
   ]
  },
  {
   "cell_type": "code",
   "execution_count": 30,
   "metadata": {},
   "outputs": [],
   "source": [
    "info_link_elements = driver.find_elements_by_xpath(\"//tbody/tr/td[5]//a\")\n",
    "\n",
    "info_list = []\n",
    "for i in range(500):\n",
    "    info_row = info_link_elements[i].get_attribute(\"href\")\n",
    "    info_list.append(info_row)"
   ]
  },
  {
   "cell_type": "code",
   "execution_count": 31,
   "metadata": {
    "collapsed": true
   },
   "outputs": [],
   "source": [
    "path_out = r\"C:\\Users\\erics_qp7a9\\Google Drive\\Cisco\\Extracts\\cyber_for_al.csv\"\n",
    "with open(path_out, \"w+\", encoding='utf-8', newline='') as csv_file:\n",
    "    outputwriter = csv.writer(csv_file, dialect='excel')\n",
    "    for company_name, company_link, sector, hq_location, info_link in zip(company_names, company_links, sectors, hq_list, info_list):\n",
    "        outputwriter.writerow([company_name, company_link, sector, hq_location, info_link])"
   ]
  }
 ],
 "metadata": {
  "kernelspec": {
   "display_name": "Python 3",
   "language": "python",
   "name": "python3"
  },
  "language_info": {
   "codemirror_mode": {
    "name": "ipython",
    "version": 3
   },
   "file_extension": ".py",
   "mimetype": "text/x-python",
   "name": "python",
   "nbconvert_exporter": "python",
   "pygments_lexer": "ipython3",
   "version": "3.6.1"
  }
 },
 "nbformat": 4,
 "nbformat_minor": 2
}
